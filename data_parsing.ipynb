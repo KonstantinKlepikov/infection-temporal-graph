{
 "cells": [
  {
   "cell_type": "code",
   "execution_count": 1,
   "id": "willing-elevation",
   "metadata": {},
   "outputs": [],
   "source": [
    "import json\n",
    "import os\n",
    "import networkx as nx\n",
    "import matplotlib.pyplot as plt"
   ]
  },
  {
   "cell_type": "code",
   "execution_count": 2,
   "id": "documented-particle",
   "metadata": {},
   "outputs": [],
   "source": [
    "user_set = set()\n",
    "with open('data/opendatascience-Slack-export-Mar-12-2015-Dec-2-2020/users.json', 'r') as file_open:\n",
    "    loaded = json.loads(file_open.read())\n",
    "    user_set.update(loaded[0].keys())"
   ]
  },
  {
   "cell_type": "code",
   "execution_count": 3,
   "id": "acute-legend",
   "metadata": {},
   "outputs": [
    {
     "data": {
      "text/plain": [
       "{'color',\n",
       " 'deleted',\n",
       " 'id',\n",
       " 'is_admin',\n",
       " 'is_app_user',\n",
       " 'is_bot',\n",
       " 'is_owner',\n",
       " 'is_primary_owner',\n",
       " 'is_restricted',\n",
       " 'is_ultra_restricted',\n",
       " 'name',\n",
       " 'profile',\n",
       " 'real_name',\n",
       " 'team_id',\n",
       " 'tz',\n",
       " 'tz_label',\n",
       " 'tz_offset',\n",
       " 'updated'}"
      ]
     },
     "execution_count": 3,
     "metadata": {},
     "output_type": "execute_result"
    }
   ],
   "source": [
    "user_set"
   ]
  },
  {
   "cell_type": "code",
   "execution_count": 4,
   "id": "applicable-blond",
   "metadata": {},
   "outputs": [],
   "source": [
    "channels_set = set()\n",
    "with open('data/opendatascience-Slack-export-Mar-12-2015-Dec-2-2020/channels.json', 'r') as file_open:\n",
    "    loaded = json.loads(file_open.read())\n",
    "    channels_set.update(loaded[0].keys())"
   ]
  },
  {
   "cell_type": "code",
   "execution_count": 5,
   "id": "invisible-premiere",
   "metadata": {},
   "outputs": [
    {
     "data": {
      "text/plain": [
       "{'created',\n",
       " 'creator',\n",
       " 'id',\n",
       " 'is_archived',\n",
       " 'is_general',\n",
       " 'members',\n",
       " 'name',\n",
       " 'pins',\n",
       " 'purpose',\n",
       " 'topic'}"
      ]
     },
     "execution_count": 5,
     "metadata": {},
     "output_type": "execute_result"
    }
   ],
   "source": [
    "channels_set"
   ]
  },
  {
   "cell_type": "markdown",
   "id": "effective-supply",
   "metadata": {},
   "source": [
    "## Memebership graph"
   ]
  },
  {
   "cell_type": "code",
   "execution_count": 6,
   "id": "australian-tuning",
   "metadata": {},
   "outputs": [],
   "source": [
    "def static_graph_builder(path_):\n",
    "    G = nx.Graph()\n",
    "    with open(path_, 'r') as file_open:\n",
    "        loaded = json.loads(file_open.read())\n",
    "        for i in loaded:\n",
    "            G.add_node(i['name'], role='room')\n",
    "            G.add_nodes_from(i['members'], role='users')\n",
    "            for j in i['members']:\n",
    "                G.add_edge(i['name'], j)\n",
    "    return G"
   ]
  },
  {
   "cell_type": "code",
   "execution_count": 7,
   "id": "satellite-insert",
   "metadata": {},
   "outputs": [],
   "source": [
    "G = static_graph_builder('data/opendatascience-Slack-export-Mar-12-2015-Dec-2-2020/channels.json')"
   ]
  },
  {
   "cell_type": "code",
   "execution_count": 8,
   "id": "governmental-cabin",
   "metadata": {},
   "outputs": [
    {
     "data": {
      "text/plain": [
       "54639"
      ]
     },
     "execution_count": 8,
     "metadata": {},
     "output_type": "execute_result"
    }
   ],
   "source": [
    "G.number_of_nodes()"
   ]
  },
  {
   "cell_type": "code",
   "execution_count": 9,
   "id": "decreased-spirituality",
   "metadata": {},
   "outputs": [
    {
     "data": {
      "text/plain": [
       "1062962"
      ]
     },
     "execution_count": 9,
     "metadata": {},
     "output_type": "execute_result"
    }
   ],
   "source": [
    "G.number_of_edges()"
   ]
  },
  {
   "cell_type": "code",
   "execution_count": 10,
   "id": "separate-former",
   "metadata": {},
   "outputs": [
    {
     "data": {
      "text/plain": [
       "'Name: \\nType: Graph\\nNumber of nodes: 54639\\nNumber of edges: 1062962\\nAverage degree:  38.9085'"
      ]
     },
     "execution_count": 10,
     "metadata": {},
     "output_type": "execute_result"
    }
   ],
   "source": [
    "nx.info(G)"
   ]
  },
  {
   "cell_type": "code",
   "execution_count": 11,
   "id": "digital-rendering",
   "metadata": {},
   "outputs": [
    {
     "name": "stdout",
     "output_type": "stream",
     "text": [
      "Граф является ненаправленным и состоит из нескольких компонент.\n"
     ]
    }
   ],
   "source": [
    "if nx.is_connected(G):\n",
    "    print('Граф является ненаправленным и связным.')\n",
    "else:\n",
    "    print('Граф является ненаправленным и состоит из нескольких компонент.')"
   ]
  },
  {
   "cell_type": "code",
   "execution_count": 12,
   "id": "unlimited-married",
   "metadata": {},
   "outputs": [
    {
     "data": {
      "image/png": "[encoded data removed]",
      "text/plain": [
       "<Figure size 720x720 with 1 Axes>"
      ]
     },
     "metadata": {
      "needs_background": "light"
     },
     "output_type": "display_data"
    }
   ],
   "source": [
    "degree = dict(G.degree())\n",
    "degree_values = sorted(set(degree.values()))\n",
    "hist = [list(degree.values()).count(x) for x in degree_values]\n",
    "plt.figure(figsize=(10, 10))\n",
    "plt.plot(degree_values, hist, 'ro-')\n",
    "plt.legend(['Degree'])\n",
    "plt.xlabel('Degree')\n",
    "plt.ylabel('Number of nodes')\n",
    "plt.show()"
   ]
  },
  {
   "cell_type": "code",
   "execution_count": 21,
   "id": "tutorial-assessment",
   "metadata": {
    "deletable": false,
    "editable": false,
    "run_control": {
     "frozen": true
    }
   },
   "outputs": [],
   "source": [
    "def static_graph_builder_user_to_user(path_):\n",
    "    G = nx.MultiGraph()\n",
    "    with open(path_, 'r') as file_open:\n",
    "        loaded = json.loads(file_open.read())\n",
    "        for i in loaded:\n",
    "            G.add_nodes_from(i['members'])\n",
    "            for j in i['members']:\n",
    "                for k in i['members']:\n",
    "                    if j != k:\n",
    "                        G.add_edge(j, k)\n",
    "    return G"
   ]
  },
  {
   "cell_type": "code",
   "execution_count": null,
   "id": "european-murder",
   "metadata": {
    "deletable": false,
    "editable": false,
    "run_control": {
     "frozen": true
    }
   },
   "outputs": [],
   "source": [
    "G_us = static_graph_builder_user_to_user('data/opendatascience-Slack-export-Mar-12-2015-Dec-2-2020/channels.json')"
   ]
  },
  {
   "cell_type": "code",
   "execution_count": null,
   "id": "adapted-strength",
   "metadata": {
    "deletable": false,
    "editable": false,
    "run_control": {
     "frozen": true
    }
   },
   "outputs": [],
   "source": [
    "nx.info(G_us)"
   ]
  },
  {
   "cell_type": "code",
   "execution_count": 13,
   "id": "serious-demographic",
   "metadata": {
    "deletable": false,
    "editable": false,
    "run_control": {
     "frozen": true
    }
   },
   "outputs": [],
   "source": [
    "def static_graph_builder_channel_to_channel(path_):\n",
    "    G = nx.MultiGraph()\n",
    "    with open(path_, 'r') as file_open:\n",
    "        loaded = json.loads(file_open.read())        \n",
    "        for i in loaded:\n",
    "            G.add_node(i['name'])\n",
    "            for j in loaded:\n",
    "                G.add_node(j['name'])\n",
    "                if i != j:\n",
    "                    s = set(i['members'])\n",
    "                    s.update(set(j['members']))\n",
    "                    for k in s:\n",
    "                        G.add_edge(i['name'], j['name'], k)\n",
    "    return G"
   ]
  },
  {
   "cell_type": "code",
   "execution_count": null,
   "id": "technical-filing",
   "metadata": {
    "deletable": false,
    "editable": false,
    "run_control": {
     "frozen": true
    }
   },
   "outputs": [],
   "source": [
    "G_ch = static_graph_builder_channel_to_channel('data/opendatascience-Slack-export-Mar-12-2015-Dec-2-2020/channels.json')"
   ]
  },
  {
   "cell_type": "code",
   "execution_count": 18,
   "id": "altered-religious",
   "metadata": {},
   "outputs": [],
   "source": [
    "def static_graph_weighted(path_):\n",
    "    G = nx.Graph()\n",
    "    with open(path_, 'r') as file_open:\n",
    "        loaded = json.loads(file_open.read())        \n",
    "        for i in loaded:\n",
    "            G.add_node(i['name'])\n",
    "            for j in loaded:\n",
    "                G.add_node(j['name'])\n",
    "                if i != j:\n",
    "                    s = set(i['members'])\n",
    "                    s.update(set(j['members']))\n",
    "                    G.add_edge(i['name'], j['name'], weight=len(s))\n",
    "    return G"
   ]
  },
  {
   "cell_type": "code",
   "execution_count": 20,
   "id": "armed-leader",
   "metadata": {},
   "outputs": [],
   "source": [
    "G_w = static_graph_weighted('data/opendatascience-Slack-export-Mar-12-2015-Dec-2-2020/channels.json')"
   ]
  },
  {
   "cell_type": "code",
   "execution_count": 21,
   "id": "hearing-project",
   "metadata": {},
   "outputs": [
    {
     "data": {
      "text/plain": [
       "'Name: \\nType: Graph\\nNumber of nodes: 366\\nNumber of edges: 66795\\nAverage degree: 365.0000'"
      ]
     },
     "execution_count": 21,
     "metadata": {},
     "output_type": "execute_result"
    }
   ],
   "source": [
    "nx.info(G_w)"
   ]
  },
  {
   "cell_type": "code",
   "execution_count": 28,
   "id": "level-values",
   "metadata": {},
   "outputs": [],
   "source": [
    "from itertools import product\n",
    "\n",
    "def static_graph_weighted2(path_):\n",
    "    G = nx.Graph()\n",
    "    with open(path_, 'r') as file_open:\n",
    "        loaded = json.loads(file_open.read()) \n",
    "        namelist = [i['name'] for i in loaded]\n",
    "        G.add_nodes_from(namelist)\n",
    "        print([(i1, i2) for i1, i2 in product(namelist, namelist) if i1 != i2])\n",
    "#         for i in loaded:\n",
    "#             G.add_node(i['name'])\n",
    "#             for j in loaded:\n",
    "#                 G.add_node(j['name'])\n",
    "#                 if i != j:\n",
    "#                     s = set(i['members'])\n",
    "#                     s.update(set(j['members']))\n",
    "#                     G.add_edge(i['name'], j['name'], weight=len(s))\n",
    "    return G\n",
    "\n"
   ]
  },
  {
   "cell_type": "code",
   "execution_count": 29,
   "id": "broadband-fusion",
   "metadata": {},
   "outputs": [
    {
     "name": "stderr",
     "output_type": "stream",
     "text": [
      "IOPub data rate exceeded.\n",
      "The notebook server will temporarily stop sending output\n",
      "to the client in order to avoid crashing it.\n",
      "To change this limit, set the config variable\n",
      "`--NotebookApp.iopub_data_rate_limit`.\n",
      "\n",
      "Current values:\n",
      "NotebookApp.iopub_data_rate_limit=1000000.0 (bytes/sec)\n",
      "NotebookApp.rate_limit_window=3.0 (secs)\n",
      "\n"
     ]
    }
   ],
   "source": [
    "G_w2 = static_graph_weighted2('data/opendatascience-Slack-export-Mar-12-2015-Dec-2-2020/channels.json')"
   ]
  },
  {
   "cell_type": "markdown",
   "id": "brown-battle",
   "metadata": {},
   "source": [
    "## Node list"
   ]
  },
  {
   "cell_type": "code",
   "execution_count": null,
   "id": "satisfied-resort",
   "metadata": {
    "deletable": false,
    "editable": false,
    "run_control": {
     "frozen": true
    }
   },
   "outputs": [],
   "source": [
    "path_ = 'data/opendatascience-Slack-export-Mar-12-2015-Dec-2-2020'\n",
    "_s_set = set()"
   ]
  },
  {
   "cell_type": "code",
   "execution_count": null,
   "id": "insured-proceeding",
   "metadata": {
    "deletable": false,
    "editable": false,
    "run_control": {
     "frozen": true
    }
   },
   "outputs": [],
   "source": [
    "def sourcer(path_, _s_set, _prefix=''):\n",
    "    names = os.listdir(path_)\n",
    "    s_path = os.path.realpath(path_)\n",
    "\n",
    "    for name in names:\n",
    "        fullpath = os.path.join(s_path, name)\n",
    "        if os.path.isfile(fullpath):\n",
    "            if os.path.splitext(fullpath)[1] == '.json':\n",
    "                with open(fullpath, 'r') as file_open:\n",
    "                    loaded = json.loads(file_open.read())\n",
    "                    _s_set.update(loaded[0].keys())\n",
    "        elif os.path.isdir(fullpath):\n",
    "            sourcer(os.path.join(path_, name), _s_set, _prefix + name + '/')\n",
    "\n",
    "    return _s_set"
   ]
  },
  {
   "cell_type": "code",
   "execution_count": null,
   "id": "happy-ending",
   "metadata": {
    "deletable": false,
    "editable": false,
    "run_control": {
     "frozen": true
    }
   },
   "outputs": [],
   "source": [
    "s = sourcer(path_, _s_set)"
   ]
  },
  {
   "cell_type": "code",
   "execution_count": null,
   "id": "classical-sociology",
   "metadata": {
    "deletable": false,
    "editable": false,
    "run_control": {
     "frozen": true
    }
   },
   "outputs": [],
   "source": [
    "s"
   ]
  },
  {
   "cell_type": "code",
   "execution_count": null,
   "id": "above-notebook",
   "metadata": {},
   "outputs": [],
   "source": []
  }
 ],
 "metadata": {
  "kernelspec": {
   "display_name": "Python 3",
   "language": "python",
   "name": "python3"
  },
  "language_info": {
   "codemirror_mode": {
    "name": "ipython",
    "version": 3
   },
   "file_extension": ".py",
   "mimetype": "text/x-python",
   "name": "python",
   "nbconvert_exporter": "python",
   "pygments_lexer": "ipython3",
   "version": "3.8.6"
  }
 },
 "nbformat": 4,
 "nbformat_minor": 5
}
