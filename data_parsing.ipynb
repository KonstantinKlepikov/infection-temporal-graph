{
 "cells": [
  {
   "cell_type": "code",
   "execution_count": 1,
   "id": "willing-elevation",
   "metadata": {},
   "outputs": [],
   "source": [
    "import json\n",
    "import os\n",
    "import networkx as nx\n",
    "import matplotlib.pyplot as plt"
   ]
  },
  {
   "cell_type": "code",
   "execution_count": 2,
   "id": "cubic-birth",
   "metadata": {},
   "outputs": [],
   "source": [
    "user_set = set()\n",
    "with open('data/opendatascience-Slack-export-Mar-12-2015-Dec-2-2020/users.json', 'r') as file_open:\n",
    "    loaded = json.loads(file_open.read())\n",
    "    user_set.update(loaded[0].keys())"
   ]
  },
  {
   "cell_type": "code",
   "execution_count": 3,
   "id": "textile-seller",
   "metadata": {},
   "outputs": [
    {
     "data": {
      "text/plain": [
       "{'color',\n",
       " 'deleted',\n",
       " 'id',\n",
       " 'is_admin',\n",
       " 'is_app_user',\n",
       " 'is_bot',\n",
       " 'is_owner',\n",
       " 'is_primary_owner',\n",
       " 'is_restricted',\n",
       " 'is_ultra_restricted',\n",
       " 'name',\n",
       " 'profile',\n",
       " 'real_name',\n",
       " 'team_id',\n",
       " 'tz',\n",
       " 'tz_label',\n",
       " 'tz_offset',\n",
       " 'updated'}"
      ]
     },
     "execution_count": 3,
     "metadata": {},
     "output_type": "execute_result"
    }
   ],
   "source": [
    "user_set"
   ]
  },
  {
   "cell_type": "code",
   "execution_count": 4,
   "id": "similar-slovakia",
   "metadata": {},
   "outputs": [],
   "source": [
    "channels_set = set()\n",
    "with open('data/opendatascience-Slack-export-Mar-12-2015-Dec-2-2020/channels.json', 'r') as file_open:\n",
    "    loaded = json.loads(file_open.read())\n",
    "    channels_set.update(loaded[0].keys())"
   ]
  },
  {
   "cell_type": "code",
   "execution_count": 5,
   "id": "demanding-earthquake",
   "metadata": {},
   "outputs": [
    {
     "data": {
      "text/plain": [
       "{'created',\n",
       " 'creator',\n",
       " 'id',\n",
       " 'is_archived',\n",
       " 'is_general',\n",
       " 'members',\n",
       " 'name',\n",
       " 'pins',\n",
       " 'purpose',\n",
       " 'topic'}"
      ]
     },
     "execution_count": 5,
     "metadata": {},
     "output_type": "execute_result"
    }
   ],
   "source": [
    "channels_set"
   ]
  },
  {
   "cell_type": "markdown",
   "id": "divided-despite",
   "metadata": {},
   "source": [
    "## Memebership graph"
   ]
  },
  {
   "cell_type": "code",
   "execution_count": 6,
   "id": "corrected-adaptation",
   "metadata": {},
   "outputs": [],
   "source": [
    "# members and channels in one bag\n",
    "def static_graph_builder(path_):\n",
    "    G = nx.Graph()\n",
    "    with open(path_, 'r') as file_open:\n",
    "        loaded = json.loads(file_open.read())\n",
    "        for i in loaded:\n",
    "            G.add_node(i['name'], role='room')\n",
    "            G.add_nodes_from(i['members'], role='users')\n",
    "            for j in i['members']:\n",
    "                G.add_edge(i['name'], j)\n",
    "    return G"
   ]
  },
  {
   "cell_type": "code",
   "execution_count": 7,
   "id": "dramatic-eagle",
   "metadata": {},
   "outputs": [],
   "source": [
    "G = static_graph_builder('data/opendatascience-Slack-export-Mar-12-2015-Dec-2-2020/channels.json')"
   ]
  },
  {
   "cell_type": "code",
   "execution_count": 8,
   "id": "rising-cliff",
   "metadata": {},
   "outputs": [
    {
     "data": {
      "text/plain": [
       "54639"
      ]
     },
     "execution_count": 8,
     "metadata": {},
     "output_type": "execute_result"
    }
   ],
   "source": [
    "G.number_of_nodes()"
   ]
  },
  {
   "cell_type": "code",
   "execution_count": 9,
   "id": "insured-portuguese",
   "metadata": {},
   "outputs": [
    {
     "data": {
      "text/plain": [
       "1062962"
      ]
     },
     "execution_count": 9,
     "metadata": {},
     "output_type": "execute_result"
    }
   ],
   "source": [
    "G.number_of_edges()"
   ]
  },
  {
   "cell_type": "code",
   "execution_count": 10,
   "id": "systematic-rouge",
   "metadata": {},
   "outputs": [
    {
     "data": {
      "text/plain": [
       "'Name: \\nType: Graph\\nNumber of nodes: 54639\\nNumber of edges: 1062962\\nAverage degree:  38.9085'"
      ]
     },
     "execution_count": 10,
     "metadata": {},
     "output_type": "execute_result"
    }
   ],
   "source": [
    "nx.info(G)"
   ]
  },
  {
   "cell_type": "code",
   "execution_count": 11,
   "id": "incident-static",
   "metadata": {},
   "outputs": [
    {
     "name": "stdout",
     "output_type": "stream",
     "text": [
      "Граф является ненаправленным и состоит из нескольких компонент.\n"
     ]
    }
   ],
   "source": [
    "if nx.is_connected(G):\n",
    "    print('Граф является ненаправленным и связным.')\n",
    "else:\n",
    "    print('Граф является ненаправленным и состоит из нескольких компонент.')"
   ]
  },
  {
   "cell_type": "code",
   "execution_count": 12,
   "id": "weighted-emphasis",
   "metadata": {},
   "outputs": [
    {
     "data": {
      "image/png": "[encoded data removed]",
      "text/plain": [
       "<Figure size 720x720 with 1 Axes>"
      ]
     },
     "metadata": {
      "needs_background": "light"
     },
     "output_type": "display_data"
    }
   ],
   "source": [
    "degree = dict(G.degree())\n",
    "degree_values = sorted(set(degree.values()))\n",
    "hist = [list(degree.values()).count(x) for x in degree_values]\n",
    "plt.figure(figsize=(10, 10))\n",
    "plt.plot(degree_values, hist, 'ro-')\n",
    "plt.legend(['Degree'])\n",
    "plt.xlabel('Degree')\n",
    "plt.ylabel('Number of nodes')\n",
    "plt.show()"
   ]
  },
  {
   "cell_type": "code",
   "execution_count": 21,
   "id": "baking-conference",
   "metadata": {
    "deletable": false,
    "editable": false,
    "run_control": {
     "frozen": true
    }
   },
   "outputs": [],
   "source": [
    "# user to user graph, where channels are edges\n",
    "def static_graph_builder_user_to_user(path_):\n",
    "    G = nx.MultiGraph()\n",
    "    with open(path_, 'r') as file_open:\n",
    "        loaded = json.loads(file_open.read())\n",
    "        for i in loaded:\n",
    "            G.add_nodes_from(i['members'])\n",
    "            for j in i['members']:\n",
    "                for k in i['members']:\n",
    "                    if j != k:\n",
    "                        G.add_edge(j, k)\n",
    "    return G"
   ]
  },
  {
   "cell_type": "code",
   "execution_count": null,
   "id": "decent-ethics",
   "metadata": {
    "deletable": false,
    "editable": false,
    "run_control": {
     "frozen": true
    }
   },
   "outputs": [],
   "source": [
    "G_us = static_graph_builder_user_to_user('data/opendatascience-Slack-export-Mar-12-2015-Dec-2-2020/channels.json')"
   ]
  },
  {
   "cell_type": "code",
   "execution_count": null,
   "id": "closing-wayne",
   "metadata": {
    "deletable": false,
    "editable": false,
    "run_control": {
     "frozen": true
    }
   },
   "outputs": [],
   "source": [
    "nx.info(G_us)"
   ]
  },
  {
   "cell_type": "code",
   "execution_count": 13,
   "id": "limiting-hungary",
   "metadata": {
    "deletable": false,
    "editable": false,
    "run_control": {
     "frozen": true
    }
   },
   "outputs": [],
   "source": [
    "# channel to channel graph, where common users are edges\n",
    "def static_graph_builder_channel_to_channel(path_):\n",
    "    G = nx.MultiGraph()\n",
    "    with open(path_, 'r') as file_open:\n",
    "        loaded = json.loads(file_open.read())        \n",
    "        for i in loaded:\n",
    "            G.add_node(i['name'])\n",
    "            for j in loaded:\n",
    "                G.add_node(j['name'])\n",
    "                if i != j:\n",
    "                    s = set(i['members'])\n",
    "                    s.update(set(j['members']))\n",
    "                    for k in s:\n",
    "                        G.add_edge(i['name'], j['name'], k)\n",
    "    return G"
   ]
  },
  {
   "cell_type": "code",
   "execution_count": null,
   "id": "floppy-angel",
   "metadata": {
    "deletable": false,
    "editable": false,
    "run_control": {
     "frozen": true
    }
   },
   "outputs": [],
   "source": [
    "G_ch = static_graph_builder_channel_to_channel('data/opendatascience-Slack-export-Mar-12-2015-Dec-2-2020/channels.json')"
   ]
  },
  {
   "cell_type": "code",
   "execution_count": 18,
   "id": "surface-sending",
   "metadata": {
    "deletable": false,
    "editable": false,
    "run_control": {
     "frozen": true
    }
   },
   "outputs": [],
   "source": [
    "# channel to channel weighted graph, where common users are edges. With loops\n",
    "def static_graph_weighted(path_):\n",
    "    G = nx.Graph()\n",
    "    with open(path_, 'r') as file_open:\n",
    "        loaded = json.loads(file_open.read())        \n",
    "        for i in loaded:\n",
    "            G.add_node(i['name'])\n",
    "            for j in loaded:\n",
    "                G.add_node(j['name'])\n",
    "                if i != j:\n",
    "                    s = set(i['members'])\n",
    "                    s.update(set(j['members']))\n",
    "                    G.add_edge(i['name'], j['name'], weight=len(s))\n",
    "    return G"
   ]
  },
  {
   "cell_type": "code",
   "execution_count": 20,
   "id": "indian-cambodia",
   "metadata": {
    "deletable": false,
    "editable": false,
    "run_control": {
     "frozen": true
    }
   },
   "outputs": [],
   "source": [
    "G_w = static_graph_weighted('data/opendatascience-Slack-export-Mar-12-2015-Dec-2-2020/channels.json')"
   ]
  },
  {
   "cell_type": "code",
   "execution_count": 21,
   "id": "massive-diagram",
   "metadata": {
    "deletable": false,
    "editable": false,
    "run_control": {
     "frozen": true
    }
   },
   "outputs": [
    {
     "data": {
      "text/plain": [
       "'Name: \\nType: Graph\\nNumber of nodes: 366\\nNumber of edges: 66795\\nAverage degree: 365.0000'"
      ]
     },
     "execution_count": 21,
     "metadata": {},
     "output_type": "execute_result"
    }
   ],
   "source": [
    "nx.info(G_w)"
   ]
  },
  {
   "cell_type": "code",
   "execution_count": 13,
   "id": "corporate-generic",
   "metadata": {},
   "outputs": [],
   "source": [
    "# weighted links between channels\n",
    "from itertools import combinations\n",
    "\n",
    "def static_graph_weighted2(path_):\n",
    "    G = nx.Graph()\n",
    "    with open(path_, 'r') as file_open:\n",
    "        loaded = json.loads(file_open.read())\n",
    "        namelist = [i['name'] for i in loaded]\n",
    "        G.add_nodes_from(namelist)\n",
    "        edgeslist = [items for items in combinations(namelist, r=2)]\n",
    "        for j in edgeslist:\n",
    "            s = set()\n",
    "            for i in loaded:\n",
    "                if i['name'] == j[0] or i['name'] == j[1]:\n",
    "                    s.update(i['members'])            \n",
    "            if s:\n",
    "                G.add_edge(j[0], j[1], weight=len(s))\n",
    "    return G"
   ]
  },
  {
   "cell_type": "code",
   "execution_count": 25,
   "id": "abandoned-large",
   "metadata": {},
   "outputs": [],
   "source": [
    "# channels by users\n",
    "def channel_fullness(path_):\n",
    "    chF = {}\n",
    "    with open(path_, 'r') as file_open:\n",
    "        loaded = json.loads(file_open.read())\n",
    "        chF = {i['name']: len(i['members']) for i in loaded}\n",
    "    return chF"
   ]
  },
  {
   "cell_type": "code",
   "execution_count": 16,
   "id": "delayed-vegetation",
   "metadata": {},
   "outputs": [],
   "source": [
    "G_w2 = static_graph_weighted2('data/opendatascience-Slack-export-Mar-12-2015-Dec-2-2020/channels.json')"
   ]
  },
  {
   "cell_type": "code",
   "execution_count": 17,
   "id": "turkish-victor",
   "metadata": {},
   "outputs": [
    {
     "data": {
      "text/plain": [
       "'Name: \\nType: Graph\\nNumber of nodes: 366\\nNumber of edges: 65805\\nAverage degree: 359.5902'"
      ]
     },
     "execution_count": 17,
     "metadata": {},
     "output_type": "execute_result"
    }
   ],
   "source": [
    "nx.info(G_w2)"
   ]
  },
  {
   "cell_type": "code",
   "execution_count": 18,
   "id": "noticed-balance",
   "metadata": {},
   "outputs": [
    {
     "data": {
      "image/png": "[encoded data removed]",
      "text/plain": [
       "<Figure size 720x720 with 1 Axes>"
      ]
     },
     "metadata": {
      "needs_background": "light"
     },
     "output_type": "display_data"
    }
   ],
   "source": [
    "degree = dict(G_w2.degree())\n",
    "degree_values = sorted(set(degree.values()))\n",
    "hist = [list(degree.values()).count(x) for x in degree_values]\n",
    "plt.figure(figsize=(10, 10))\n",
    "plt.plot(degree_values, hist, 'ro-')\n",
    "plt.legend(['Degree'])\n",
    "plt.xlabel('Degree')\n",
    "plt.ylabel('Number of nodes')\n",
    "plt.show()"
   ]
  },
  {
   "cell_type": "code",
   "execution_count": 19,
   "id": "handmade-contract",
   "metadata": {},
   "outputs": [
    {
     "data": {
      "image/png": "[encoded data removed]",
      "text/plain": [
       "<Figure size 432x288 with 1 Axes>"
      ]
     },
     "metadata": {},
     "output_type": "display_data"
    }
   ],
   "source": [
    "nx.draw(G_w2)"
   ]
  },
  {
   "cell_type": "code",
   "execution_count": 20,
   "id": "sought-inventory",
   "metadata": {},
   "outputs": [],
   "source": [
    "pr = nx.pagerank(G_w2)"
   ]
  },
  {
   "cell_type": "code",
   "execution_count": 21,
   "id": "dangerous-impression",
   "metadata": {},
   "outputs": [
    {
     "data": {
      "text/plain": [
       "{'_general': 0.01916462855494472,\n",
       " '_random_talks': 0.0036510683610275507,\n",
       " 'kaggle_crackers': 0.018491293955166126,\n",
       " 'lang_r': 0.0173808587610939,\n",
       " '_meetings': 0.01855106768689426,\n",
       " 'proj_dota2': 0.0015931431842375458,\n",
       " 'lang_python': 0.018478498101845736,\n",
       " 'lang_javascript': 0.0016090936381270553,\n",
       " 'devops': 0.0020852196644073656,\n",
       " 'visualization': 0.018414801313411222,\n",
       " 'theory_and_practice': 0.018703207220355022,\n",
       " 'deep_learning': 0.01880552059523921,\n",
       " '_jobs': 0.018791416740281938,\n",
       " 'edu_courses': 0.018581665668234524,\n",
       " 'gis': 0.0017604414909336708,\n",
       " 'conference': 0.0021535243450653916,\n",
       " 'nlp': 0.018150666822570223,\n",
       " 'interesting_links': 0.01868074768808963,\n",
       " 'deephack': 0.0017933207487344986,\n",
       " 'network_analysis': 0.0018752282626369383,\n",
       " 'big_data': 0.01729779643002541,\n",
       " '_random_politics': 0.0016998347560959316,\n",
       " 'data_fest': 0.0024901956387156517,\n",
       " 'ods_platform': 0.0015805855976449008,\n",
       " 'z_bots': 0.0015422951201691534,\n",
       " 'business': 0.0022651931619431125,\n",
       " '_meetings_spb': 0.0020493511211697305,\n",
       " 'engineering-hiring': 0.0015422951201691532,\n",
       " 'edu_academy': 0.002256138471817135,\n",
       " 'datasets': 0.01844451351973131,\n",
       " '_meetings_siberia': 0.0017281819607563881,\n",
       " '_general_en': 0.0018407762782816576,\n",
       " 'bioinformatics': 0.0017742822761114307,\n",
       " 'cloud': 0.0018749490232834022,\n",
       " 'welcome': 0.01831315289134508,\n",
       " 'lang_julia': 0.0016128398467190144,\n",
       " 'career': 0.004603808355884556,\n",
       " 'kaggle_avito_2017': 0.0015422951201691532,\n",
       " '_meetings_ukraine': 0.0018326376178573504,\n",
       " '_meetings_nsfw': 0.0018481284208015719,\n",
       " 'novosibirsk': 0.001542295120169153,\n",
       " 'org_hse_projects': 0.001542295120169153,\n",
       " 'lang_lua_torch': 0.001542295120169153,\n",
       " 'reinforcement_learning': 0.00230200006282254,\n",
       " 'blackoxchallenge': 0.001542295120169153,\n",
       " 'rnn': 0.001542295120169153,\n",
       " 'traiding': 0.001542295120169153,\n",
       " 'trading': 0.002176753161651289,\n",
       " 'kaggle_expedia_hotel': 0.0015422951201691528,\n",
       " 'deep': 0.0015422951201691528,\n",
       " 'org_nips_goldi': 0.0015422951201691528,\n",
       " 'edu_books': 0.003069164267792407,\n",
       " '_call_4_collaboration': 0.0033000724411964342,\n",
       " 'sequences_series': 0.002092336396067653,\n",
       " 'spark': 0.001542295120169153,\n",
       " 'mltrainings_live': 0.018080754025271425,\n",
       " 'hackathon': 0.0015422951201691528,\n",
       " 'ods_editors': 0.0015422951201691528,\n",
       " 'sandbox': 0.0015422951201691528,\n",
       " 'proj_benchr': 0.0015492066161833435,\n",
       " 'ods_digests': 0.001542295120169153,\n",
       " 'ods-digests': 0.001542295120169153,\n",
       " 'work': 0.001542295120169153,\n",
       " 'bayesian': 0.0020172923282306093,\n",
       " 'mltrainings_beginners': 0.01801798715360775,\n",
       " 'chess': 0.0015989357210669656,\n",
       " 'lang_scala': 0.001685939431059468,\n",
       " 'neuroscience': 0.0016734479403780222,\n",
       " 'hardware': 0.002503338497000605,\n",
       " 'ucuracy_trainings': 0.001542295120169153,\n",
       " 'jobs': 0.001542295120169153,\n",
       " 'bots': 0.0016805824918617177,\n",
       " '_meetings_sf': 0.00174873955106811,\n",
       " 'medicine': 0.0018927802661868544,\n",
       " '_meetings_live': 0.0018551146341687127,\n",
       " 'meetings_spb': 0.0015422951201691528,\n",
       " 'alexyashadasha': 0.0015422951201691528,\n",
       " 'neurohack_heart': 0.0015506524965618216,\n",
       " 'stack_overflow': 0.0015928064389609375,\n",
       " 'ex_cad': 0.001542295120169153,\n",
       " 'edu_course_pgm': 0.0015940852908874184,\n",
       " '_meetings_ulsk': 0.0015681963265525647,\n",
       " 'recommender_systems': 0.0021745740200057257,\n",
       " '_meetings_nyc': 0.0016043979383245502,\n",
       " 'wasdas': 0.001542295120169153,\n",
       " 'aij_contest': 0.0019205509130737636,\n",
       " 'fnbic_neural_networks': 0.0015505662254429256,\n",
       " 'optimization': 0.001542295120169153,\n",
       " 'cv': 0.0027401454889108734,\n",
       " '_call_4_collaboratio': 0.001542295120169153,\n",
       " 'uku': 0.001542295120169153,\n",
       " '_meetings_ekb': 0.0016377005225440121,\n",
       " 'edu_shad_exams': 0.0019991469846087438,\n",
       " 'tst_remove': 0.001542295120169153,\n",
       " 'egor_and_notabene': 0.001542295120169153,\n",
       " 'lang_cpp': 0.0017550426215402132,\n",
       " 'proj_ods_introspect': 0.0016915428484822717,\n",
       " 'mlcourse_ai_news': 0.018994719735093864,\n",
       " '_meetings_nn': 0.0015815052095164474,\n",
       " 'math': 0.0022249804009790114,\n",
       " 'data_elka_24_decembe': 0.0015422951201691528,\n",
       " 'ods_merch': 0.0018074389241524373,\n",
       " 'pydata': 0.0016882425786364536,\n",
       " 'edu_dsclub_spb': 0.0015852738248538503,\n",
       " 'satellite_imaging': 0.0018164070369356645,\n",
       " 'proj_fakenewschalleng': 0.001561546291070331,\n",
       " 'true_story': 0.001761484906369617,\n",
       " 'ods_habr': 0.0019127863556221314,\n",
       " 'proj_dsbowl_2017': 0.001563856670007165,\n",
       " 'blockchain': 0.0017879414009729473,\n",
       " 'recsys2017': 0.0015422951201691526,\n",
       " 'proj_kaggle_cervix': 0.0015422951201691526,\n",
       " 'proj_kaggle_quora_qs': 0.0016563021597643677,\n",
       " 'proj_kaggle_fish': 0.0016558589196569006,\n",
       " 'data_breakfast': 0.0019002496951863305,\n",
       " 'ods_social': 0.0015422951201691526,\n",
       " '_meetings_minsk': 0.0018875493622836112,\n",
       " '_meetings_kgd': 0.0016082605779787706,\n",
       " 'proj_comp_workshop': 0.0015783117403016195,\n",
       " 'gnomiki': 0.0027636361950552192,\n",
       " 'show_your_work': 0.002149492294423088,\n",
       " 'spacehack': 0.0015503724912163857,\n",
       " 'kaggle_dsg': 0.0015771534333913985,\n",
       " 'looking_for_a_job': 0.0028217854375502988,\n",
       " 'proj_yt8m': 0.0015847270023195727,\n",
       " '_meetings_perm': 0.0015773331504350268,\n",
       " 'article_essence': 0.0065233456133125,\n",
       " 'proj_kaggle_instacart': 0.001542295120169153,\n",
       " 'proj_topcoder': 0.0016603954534240475,\n",
       " 'proj_gensim': 0.0015593692159232633,\n",
       " '_meetings_boardgames': 0.0016148048159390035,\n",
       " 'proj_kaggle_cars': 0.0016783335753949912,\n",
       " '_meetings_tomsk': 0.0015763209941889475,\n",
       " 'proj_nexar2': 0.0015422951201691532,\n",
       " 'slack-slack': 0.0015422951201691532,\n",
       " 'proj_zillow': 0.0015639886397674355,\n",
       " '_meetings_norge': 0.0015580547748324535,\n",
       " 'proj_poker': 0.001572769120818493,\n",
       " 'proj_kaggle_cdiscount': 0.001579430058391818,\n",
       " 'self_driving': 0.0018960424014650553,\n",
       " 'proj_safe_driver': 0.001578862410247508,\n",
       " 'ods_resume_mastering': 0.0026988332859137613,\n",
       " 'ods_datasets': 0.001542295120169153,\n",
       " 'class_coursera_aml': 0.0017895641042649374,\n",
       " 'proj_kaggle_statoil': 0.001542295120169153,\n",
       " '_meetings_chel': 0.0015722551575152476,\n",
       " 'class_cs231n': 0.0026167352734187336,\n",
       " '_meetings_tbilisi': 0.0015512774422076858,\n",
       " 'ods_challenges': 0.0015422951201691528,\n",
       " 'proj_kaggle_speech': 0.001594171310251752,\n",
       " 'proj_tinkoff': 0.0015422951201691528,\n",
       " 'proj_mercari': 0.0015867711990030227,\n",
       " 'gett_mck_bigdata_hack': 0.0015543823813511071,\n",
       " 'proj_kaggle_recruit': 0.001574745347904885,\n",
       " 'proj_drivendata_chimp': 0.001565058807482476,\n",
       " '_meetings_uk': 0.0016223251780392014,\n",
       " 'proj_kaggle_camera': 0.0016131598002113211,\n",
       " '_meetings_omsk': 0.0015554462615418113,\n",
       " '_top_jobs': 0.013798502656828873,\n",
       " 'proj_ds_bowl2018': 0.0016640590279770183,\n",
       " 'proj_restrserve': 0.0015488580412139539,\n",
       " 'proj_kaggle_jigsaw': 0.0017009490978217615,\n",
       " 'pr_jerk': 0.0019211764923598804,\n",
       " 'mlcourse_ai': 0.014835206206911549,\n",
       " 'class_fast_ai': 0.001542295120169153,\n",
       " '_meetings_france': 0.0015946570764138854,\n",
       " 'class_fastai': 0.0018991967721065798,\n",
       " 'proj_kaggle_landmark': 0.001641481908213273,\n",
       " 'proj_drivendata': 0.0015941091942339879,\n",
       " 'ods_sport': 0.0019644349485074693,\n",
       " 'whateverhack': 0.0015711304799251417,\n",
       " '_meetings_smr': 0.0015864456234734713,\n",
       " '_random_b': 0.0018504009507489011,\n",
       " 'proj_acm_recsys': 0.0015780542779517041,\n",
       " 'proj_kaggle_talkdata': 0.0015791128068661717,\n",
       " '_meetings_de': 0.0017758747070601248,\n",
       " 'proj_algo_alice': 0.0015937856922317237,\n",
       " 'proj_geohack': 0.0015876463018711872,\n",
       " 'minsk_2018_travel': 0.0015422951201691532,\n",
       " 'proj_kaggle_avito': 0.001635054168651517,\n",
       " 'proj_rosbank': 0.0016037361878631629,\n",
       " 'esports': 0.0015742714715798044,\n",
       " 'proj_kaggle_trackml': 0.0015821666739891042,\n",
       " '_meetings_seattle': 0.0015665716107975737,\n",
       " '_meetings_nl': 0.001614072197877617,\n",
       " 'proj_home_credit': 0.0016373281361068066,\n",
       " 'meeting_nsfw_icml': 0.00155788820834802,\n",
       " 'tool_spacy_ru': 0.001606761222801075,\n",
       " 'proj_kaggle_santander': 0.0016747448302064183,\n",
       " '_meetings_us': 0.0016432553296052233,\n",
       " 'lang_go': 0.0016173203618578132,\n",
       " 'proj_kaggle_openimage': 0.0016175808588492872,\n",
       " '_jobs_academy_phd': 0.0020275804216877947,\n",
       " 'proj_kaggle_salt': 0.0016969912007953694,\n",
       " '_meetings_fi': 0.001573854727697269,\n",
       " '_meetings_ca': 0.0016321984632344702,\n",
       " 'class_cs224w': 0.0018560022147667238,\n",
       " 'proj_classic_ai': 0.0016113135742953672,\n",
       " 'proj_kaggle_airbus': 0.001653445116261199,\n",
       " '_top_science': 0.01347809387616061,\n",
       " '_top_projects': 0.0016851371491425657,\n",
       " '_top_events': 0.013431442209783534,\n",
       " '___top_links': 0.0015422951201691534,\n",
       " '_top_talks': 0.013444152361047693,\n",
       " 'dev_bot_test': 0.0015456830809210428,\n",
       " 'proj_kaggle_pneumonia': 0.0016901348773375956,\n",
       " 'class_dl_cmu': 0.0023258193449831885,\n",
       " 'ods_crowd': 0.001570513288155372,\n",
       " 'proj_kaggle_ga': 0.001627283960011062,\n",
       " 'industrial_ds': 0.0016373181325288772,\n",
       " 'proj_kaggle_2sigma': 0.0016302904253829734,\n",
       " 'writing_n_presenting': 0.0016821460955015843,\n",
       " 'proj_bytecup2018': 0.0015614740871978772,\n",
       " 'proj_kaggle_quickdraw': 0.00160589647288084,\n",
       " '_meetings_barnaul': 0.0015516198068787662,\n",
       " 'proj_jet_raif2018': 0.0015521891521457082,\n",
       " 'cft_contest': 0.0015747052757225308,\n",
       " 'proj_kaggle_protein': 0.0016548998116787872,\n",
       " 'proj_kaggle_inclusive': 0.0015684309184978416,\n",
       " 'proj_kaggle_plasticc': 0.0015833727685877585,\n",
       " 'class_udacity_pytorch': 0.0016109389466269814,\n",
       " 'ods_travel': 0.0017508081079966652,\n",
       " 'picsartaihack': 0.0015923101328463726,\n",
       " 'proj_telecom_data_cup': 0.001597985646781774,\n",
       " '_meetings_china': 0.0015538675893788426,\n",
       " 'ml_pipeline': 0.002465170521709697,\n",
       " 'ods_mentoring': 0.0021565532286517523,\n",
       " 'baai': 0.001554442078008743,\n",
       " 'proj_kaggle_santa': 0.0016110284871758266,\n",
       " '_jobs_hr': 0.002881265116028726,\n",
       " 'quantum_computing': 0.0017114321070097209,\n",
       " 'randomcoffee': 0.001870793516439964,\n",
       " '_meetings_israel': 0.0015733028909407853,\n",
       " 'proj_kaggle_elo_merch': 0.0016061570653962375,\n",
       " 'proj_msft_malware': 0.0016201578024271671,\n",
       " 'proj_signate_cars': 0.001566865323871147,\n",
       " 'proj_kaggle_vsb_power': 0.0015996802932468105,\n",
       " '_meetings_md': 0.001556614535046881,\n",
       " 'proj_procurement_shr': 0.0015432385566854997,\n",
       " 'proj_kaggle_petfinder': 0.0016177127997677964,\n",
       " '_meetings_dv': 0.0015736894920956915,\n",
       " 'dlcourse_ai': 0.002466904586620889,\n",
       " 'proj_kaggle_lanl': 0.0016389837422621791,\n",
       " 'proj_idao_2019': 0.0015733726670213034,\n",
       " 'ds_process': 0.0019367965804600112,\n",
       " '_meetings_kzn': 0.0015700492650817118,\n",
       " 'security': 0.0016453929837434446,\n",
       " 'proj_punch_to_face': 0.0016805421082592314,\n",
       " 'proj_snahackathon': 0.00156894940701823,\n",
       " 'mlcourse_ai_rus': 0.007098940922459711,\n",
       " 'proj_kaggle_pronoun': 0.0015655750322161469,\n",
       " 'consulting': 0.0016366088343240399,\n",
       " 'tool_dvc': 0.0017639454219163077,\n",
       " 'tool_catboost': 0.0017356683915538008,\n",
       " 'tool_deeppavlov': 0.001646445641616232,\n",
       " 'tool_albumentations': 0.0017368689620853596,\n",
       " 'proj_kekas': 0.0015422951201691534,\n",
       " 'tool_kekas': 0.0015700619416080188,\n",
       " 'tool_catalyst': 0.0017840190562080794,\n",
       " 'tool_eli5': 0.0015565649325447566,\n",
       " 'risk_modelling': 0.0016192427593981064,\n",
       " 'teal_practices_cases': 0.0015533428805757695,\n",
       " 'audio_and_speech': 0.0019463222783182414,\n",
       " 'proj_gold_miners': 0.001553476352644848,\n",
       " 'юла_ods': 0.001682765915016714,\n",
       " '_meetings_uae': 0.001704323809022475,\n",
       " 'proj_kaggle_fgvc6': 0.0016090133216247742,\n",
       " 'ml4sg': 0.0022530093693766337,\n",
       " 'proj_freesound_2019': 0.001581328642564021,\n",
       " 'proj_kaggle_fashion': 0.0016125083306144541,\n",
       " 'idrnd_challenge': 0.0015999206874247514,\n",
       " 'proj_kaggle_inst_grat': 0.0015947111058410108,\n",
       " 'ods_pet_projects': 0.002287087988567639,\n",
       " 'proj_kaggle_champs': 0.0016662352707525155,\n",
       " 'proj_mcs_challenge': 0.0015576266084836616,\n",
       " 'proj_signate': 0.0015956044924274773,\n",
       " 'proj_kaggle_gan': 0.0016216102631069417,\n",
       " 'proj_kaggle_blindness': 0.0016134159440089324,\n",
       " 'ai_ethics': 0.0016403581611649724,\n",
       " 'proj_kaggle_fraud': 0.0016736781248491155,\n",
       " 'ods_sky_sport': 0.0015595384343561854,\n",
       " 'proj_kaggle_severstal': 0.001683970663618627,\n",
       " 'proj_nips_causal': 0.0015580656303594573,\n",
       " 'proj_nips_autodl': 0.0015512593381321056,\n",
       " 'proj_nips_comp_19': 0.0016988343407414804,\n",
       " 'proj_nips_traffic': 0.0015491566862484599,\n",
       " 'ods_sport_sf': 0.0015803511533154131,\n",
       " 'class_ium_2019': 0.0015549789985145205,\n",
       " 'proj_kaggle_lyft': 0.0017192091500029582,\n",
       " 'proj_zindi': 0.0016039300473741675,\n",
       " 'proj_kaggle_hemorrhage': 0.0015856043950292808,\n",
       " 'proj_wildfire': 0.0016113621423453606,\n",
       " 'proj_kaggle_energy': 0.0016129694527106833,\n",
       " '_meetings_sochi': 0.0015603323073319685,\n",
       " 'proj_kaggle_nfl': 0.0015876766780742128,\n",
       " 'data_labeling': 0.0015674242298262967,\n",
       " 'tool_kaos': 0.00154720353259654,\n",
       " 'proj_sibur_challenge': 0.001575387947818239,\n",
       " 'proj_dsbowl_2019': 0.0016396736023385227,\n",
       " 'proj_kaggle_tf2_question_ans': 0.0016120825115099092,\n",
       " 'proj_kaggle_quest_challenge': 0.0015949031129507281,\n",
       " 'tool_ebonite': 0.0015948730759236043,\n",
       " 'proj_retailhero': 0.0017216171566997562,\n",
       " 'proj_nghack2019': 0.001569685840902719,\n",
       " '_meetings_ch': 0.0015528097214443299,\n",
       " 'tool_segmentation': 0.0016891539041855373,\n",
       " 'proj_kaggle_deepfake': 0.0017415134863077474,\n",
       " 'ods_podcast': 0.001573546417718949,\n",
       " 'proj_kaggle_bengali_classification': 0.0016226602618339113,\n",
       " 'gan': 0.0017472011583314201,\n",
       " 'ods_policy_prior': 0.00164726432007368,\n",
       " 'ods_purgatory': 0.0015598136393255432,\n",
       " 'class_cs224n': 0.0017631702878397606,\n",
       " 'ods_code_review': 0.0018747848083685123,\n",
       " 'mlcourse_dubai': 0.001707649098487754,\n",
       " 'tool_arboretum': 0.0015546465270903696,\n",
       " 'process_mining': 0.0016508341672523412,\n",
       " 'tool_digestbot': 0.0015468965940127822,\n",
       " 'tool_bigartm': 0.0015987273188014276,\n",
       " 'proj_kaggle_abstraction_and_reasoning': 0.0016206247374532738,\n",
       " 'huawei_nlp_course': 0.0018858006764383678,\n",
       " 'proj_kaggle_ion': 0.0016107395278033153,\n",
       " 'analytiсs': 0.0053421698495690895,\n",
       " 'proj_kaggle_m5': 0.00166498341132328,\n",
       " 'coronavirus': 0.001981162479266942,\n",
       " 'mlart': 0.0015601194371791939,\n",
       " 'proj_waymo_challenges': 0.0015875196137235775,\n",
       " 'tool_bimorph': 0.0015960229688615872,\n",
       " 'proj_kaggle_tweet_sent_extr': 0.0016074479929624888,\n",
       " 'class_dl_mipt': 0.0015568993699274058,\n",
       " 'proj_covid': 0.0016712582346392882,\n",
       " 'proj_kaggle_alaska': 0.0015995717502646433,\n",
       " 'proj_prostate_cancer': 0.0016217191903112641,\n",
       " '_meetings_voronezh': 0.0015553370042332663,\n",
       " 'proj_kaggle_wheat_detection': 0.0016276937456080156,\n",
       " 'proj_kaggle_trends_neuroimaging': 0.0015759074635320967,\n",
       " 'tool_retentioneering': 0.0015442929446909744,\n",
       " 'lang_rust': 0.0015583848619407025,\n",
       " 'proj_kaggle_melanoma': 0.001631582194030362,\n",
       " 'proj_nips_comp_20': 0.0015785910970224641,\n",
       " '_meetings_lt': 0.0015477239779218594,\n",
       " 'proj_kaggle_birds': 0.0016158933921571156,\n",
       " 'proj_kaggle_halite': 0.0015876153251032472,\n",
       " 'tool_sota_detect': 0.001552056881035131,\n",
       " 'call_for_2020_datafest': 0.001548974611305588,\n",
       " 'mlrepa': 0.0015705391953574784,\n",
       " 'ods_casting': 0.0015533897195459806,\n",
       " 'causal_inference': 0.0016038304923889305,\n",
       " 'proj_kaggle_covid_vaccine': 0.0015885300270253456,\n",
       " 'proj_kaggle_mechanism_of_action': 0.0016487765949163,\n",
       " 'startups': 0.0017543866320464043,\n",
       " 'interpretable_ml': 0.0016169508311429173,\n",
       " 'proj_upgreat_readable': 0.0015667085871104742,\n",
       " 'proj_kaggle_google_football': 0.001576617068653275,\n",
       " 'data_governance': 0.001548278947454944,\n",
       " 'ml_in_finance': 0.001578016093105263,\n",
       " 'proj_kaggle_riiid_tests': 0.001614638864110245,\n",
       " 'ods_kids': 0.0015644917326871814,\n",
       " 'edu_x5_academy': 0.0016251784867440506,\n",
       " 'ods_open_source': 0.001546720729875107,\n",
       " 'proj_kaggle_rock_paper_scissors': 0.001548416209588591,\n",
       " 'proj_kaggle_nfl_impact': 0.0015705258530956852,\n",
       " 'proj_kaggle_rfcx_species': 0.0015564237990881803,\n",
       " 'proj_kaggle_cassava_leaf': 0.0015819321270535871,\n",
       " 'proj_kaggle_kidney_segmentation': 0.0015672829308498867,\n",
       " 'proj_kaggle_jane_st': 0.0015858307474245518}"
      ]
     },
     "execution_count": 21,
     "metadata": {},
     "output_type": "execute_result"
    }
   ],
   "source": [
    "pr"
   ]
  },
  {
   "cell_type": "code",
   "execution_count": 22,
   "id": "terminal-difference",
   "metadata": {},
   "outputs": [],
   "source": [
    "pr_sorted = sorted(pr, key=pr.get, reverse=True)"
   ]
  },
  {
   "cell_type": "code",
   "execution_count": 23,
   "id": "indian-christian",
   "metadata": {},
   "outputs": [
    {
     "data": {
      "text/plain": [
       "['_general',\n",
       " 'mlcourse_ai_news',\n",
       " 'deep_learning',\n",
       " '_jobs',\n",
       " 'theory_and_practice',\n",
       " 'interesting_links',\n",
       " 'edu_courses',\n",
       " '_meetings',\n",
       " 'kaggle_crackers',\n",
       " 'lang_python',\n",
       " 'datasets',\n",
       " 'visualization',\n",
       " 'welcome',\n",
       " 'nlp',\n",
       " 'mltrainings_live',\n",
       " 'mltrainings_beginners',\n",
       " 'lang_r',\n",
       " 'big_data',\n",
       " 'mlcourse_ai',\n",
       " '_top_jobs',\n",
       " '_top_science',\n",
       " '_top_talks',\n",
       " '_top_events',\n",
       " 'mlcourse_ai_rus',\n",
       " 'article_essence',\n",
       " 'analytiсs',\n",
       " 'career',\n",
       " '_random_talks',\n",
       " '_call_4_collaboration',\n",
       " 'edu_books',\n",
       " '_jobs_hr',\n",
       " 'looking_for_a_job',\n",
       " 'gnomiki',\n",
       " 'cv',\n",
       " 'ods_resume_mastering',\n",
       " 'class_cs231n',\n",
       " 'hardware',\n",
       " 'data_fest',\n",
       " 'dlcourse_ai',\n",
       " 'ml_pipeline',\n",
       " 'class_dl_cmu',\n",
       " 'reinforcement_learning',\n",
       " 'ods_pet_projects',\n",
       " 'business',\n",
       " 'edu_academy',\n",
       " 'ml4sg',\n",
       " 'math',\n",
       " 'trading',\n",
       " 'recommender_systems',\n",
       " 'ods_mentoring',\n",
       " 'conference',\n",
       " 'show_your_work',\n",
       " 'sequences_series',\n",
       " 'devops',\n",
       " '_meetings_spb',\n",
       " '_jobs_academy_phd',\n",
       " 'bayesian',\n",
       " 'edu_shad_exams',\n",
       " 'coronavirus',\n",
       " 'ods_sport',\n",
       " 'audio_and_speech',\n",
       " 'ds_process',\n",
       " 'pr_jerk',\n",
       " 'aij_contest',\n",
       " 'ods_habr',\n",
       " 'data_breakfast',\n",
       " 'class_fastai',\n",
       " 'self_driving',\n",
       " 'medicine',\n",
       " '_meetings_minsk',\n",
       " 'huawei_nlp_course',\n",
       " 'network_analysis',\n",
       " 'cloud',\n",
       " 'ods_code_review',\n",
       " 'randomcoffee',\n",
       " 'class_cs224w',\n",
       " '_meetings_live',\n",
       " '_random_b',\n",
       " '_meetings_nsfw',\n",
       " '_general_en',\n",
       " '_meetings_ukraine',\n",
       " 'satellite_imaging',\n",
       " 'ods_merch',\n",
       " 'deephack',\n",
       " 'class_coursera_aml',\n",
       " 'blockchain',\n",
       " 'tool_catalyst',\n",
       " '_meetings_de',\n",
       " 'bioinformatics',\n",
       " 'tool_dvc',\n",
       " 'class_cs224n',\n",
       " 'true_story',\n",
       " 'gis',\n",
       " 'lang_cpp',\n",
       " 'startups',\n",
       " 'ods_travel',\n",
       " '_meetings_sf',\n",
       " 'gan',\n",
       " 'proj_kaggle_deepfake',\n",
       " 'tool_albumentations',\n",
       " 'tool_catboost',\n",
       " '_meetings_siberia',\n",
       " 'proj_retailhero',\n",
       " 'proj_kaggle_lyft',\n",
       " 'quantum_computing',\n",
       " 'mlcourse_dubai',\n",
       " '_meetings_uae',\n",
       " 'proj_kaggle_jigsaw',\n",
       " '_random_politics',\n",
       " 'proj_nips_comp_19',\n",
       " 'proj_kaggle_salt',\n",
       " 'proj_ods_introspect',\n",
       " 'proj_kaggle_pneumonia',\n",
       " 'tool_segmentation',\n",
       " 'pydata',\n",
       " 'lang_scala',\n",
       " '_top_projects',\n",
       " 'proj_kaggle_severstal',\n",
       " 'юла_ods',\n",
       " 'writing_n_presenting',\n",
       " 'bots',\n",
       " 'proj_punch_to_face',\n",
       " 'proj_kaggle_cars',\n",
       " 'proj_kaggle_santander',\n",
       " 'proj_kaggle_fraud',\n",
       " 'neuroscience',\n",
       " 'proj_covid',\n",
       " 'proj_kaggle_champs',\n",
       " 'proj_kaggle_m5',\n",
       " 'proj_ds_bowl2018',\n",
       " 'proj_topcoder',\n",
       " 'proj_kaggle_quora_qs',\n",
       " 'proj_kaggle_fish',\n",
       " 'proj_kaggle_protein',\n",
       " 'proj_kaggle_airbus',\n",
       " 'process_mining',\n",
       " 'proj_kaggle_mechanism_of_action',\n",
       " 'ods_policy_prior',\n",
       " 'tool_deeppavlov',\n",
       " 'security',\n",
       " '_meetings_us',\n",
       " 'proj_kaggle_landmark',\n",
       " 'ai_ethics',\n",
       " 'proj_dsbowl_2019',\n",
       " 'proj_kaggle_lanl',\n",
       " '_meetings_ekb',\n",
       " 'proj_home_credit',\n",
       " 'industrial_ds',\n",
       " 'consulting',\n",
       " 'proj_kaggle_avito',\n",
       " '_meetings_ca',\n",
       " 'proj_kaggle_melanoma',\n",
       " 'proj_kaggle_2sigma',\n",
       " 'proj_kaggle_wheat_detection',\n",
       " 'proj_kaggle_ga',\n",
       " 'edu_x5_academy',\n",
       " 'proj_kaggle_bengali_classification',\n",
       " '_meetings_uk',\n",
       " 'proj_prostate_cancer',\n",
       " 'proj_kaggle_gan',\n",
       " 'proj_kaggle_abstraction_and_reasoning',\n",
       " 'proj_msft_malware',\n",
       " 'risk_modelling',\n",
       " 'proj_kaggle_petfinder',\n",
       " 'proj_kaggle_openimage',\n",
       " 'lang_go',\n",
       " 'interpretable_ml',\n",
       " 'proj_kaggle_birds',\n",
       " '_meetings_boardgames',\n",
       " 'proj_kaggle_riiid_tests',\n",
       " '_meetings_nl',\n",
       " 'proj_kaggle_blindness',\n",
       " 'proj_kaggle_camera',\n",
       " 'proj_kaggle_energy',\n",
       " 'lang_julia',\n",
       " 'proj_kaggle_fashion',\n",
       " 'proj_kaggle_tf2_question_ans',\n",
       " 'proj_wildfire',\n",
       " 'proj_classic_ai',\n",
       " 'proj_kaggle_santa',\n",
       " 'class_udacity_pytorch',\n",
       " 'proj_kaggle_ion',\n",
       " 'lang_javascript',\n",
       " 'proj_kaggle_fgvc6',\n",
       " '_meetings_kgd',\n",
       " 'proj_kaggle_tweet_sent_extr',\n",
       " 'tool_spacy_ru',\n",
       " 'proj_kaggle_elo_merch',\n",
       " 'proj_kaggle_quickdraw',\n",
       " '_meetings_nyc',\n",
       " 'proj_zindi',\n",
       " 'causal_inference',\n",
       " 'proj_rosbank',\n",
       " 'idrnd_challenge',\n",
       " 'proj_kaggle_vsb_power',\n",
       " 'proj_kaggle_alaska',\n",
       " 'chess',\n",
       " 'tool_bigartm',\n",
       " 'proj_telecom_data_cup',\n",
       " 'tool_bimorph',\n",
       " 'proj_signate',\n",
       " 'proj_kaggle_quest_challenge',\n",
       " 'tool_ebonite',\n",
       " 'proj_kaggle_inst_grat',\n",
       " '_meetings_france',\n",
       " 'proj_kaggle_speech',\n",
       " 'proj_drivendata',\n",
       " 'edu_course_pgm',\n",
       " 'proj_algo_alice',\n",
       " 'proj_dota2',\n",
       " 'stack_overflow',\n",
       " 'picsartaihack',\n",
       " 'proj_kaggle_covid_vaccine',\n",
       " 'proj_kaggle_nfl',\n",
       " 'proj_geohack',\n",
       " 'proj_kaggle_halite',\n",
       " 'proj_waymo_challenges',\n",
       " 'proj_mercari',\n",
       " '_meetings_smr',\n",
       " 'proj_kaggle_jane_st',\n",
       " 'proj_kaggle_hemorrhage',\n",
       " 'edu_dsclub_spb',\n",
       " 'proj_yt8m',\n",
       " 'proj_kaggle_plasticc',\n",
       " 'proj_kaggle_trackml',\n",
       " 'proj_kaggle_cassava_leaf',\n",
       " '_meetings_nn',\n",
       " 'proj_freesound_2019',\n",
       " 'ods_platform',\n",
       " 'ods_sport_sf',\n",
       " 'proj_kaggle_cdiscount',\n",
       " 'proj_kaggle_talkdata',\n",
       " 'proj_safe_driver',\n",
       " 'proj_nips_comp_20',\n",
       " 'proj_comp_workshop',\n",
       " 'proj_acm_recsys',\n",
       " 'ml_in_finance',\n",
       " '_meetings_perm',\n",
       " 'kaggle_dsg',\n",
       " 'proj_kaggle_google_football',\n",
       " '_meetings_tomsk',\n",
       " 'proj_kaggle_trends_neuroimaging',\n",
       " 'proj_sibur_challenge',\n",
       " 'proj_kaggle_recruit',\n",
       " 'cft_contest',\n",
       " 'esports',\n",
       " '_meetings_fi',\n",
       " '_meetings_dv',\n",
       " 'ods_podcast',\n",
       " 'proj_idao_2019',\n",
       " '_meetings_israel',\n",
       " 'proj_poker',\n",
       " '_meetings_chel',\n",
       " 'whateverhack',\n",
       " 'mlrepa',\n",
       " 'proj_kaggle_nfl_impact',\n",
       " 'ods_crowd',\n",
       " 'tool_kekas',\n",
       " '_meetings_kzn',\n",
       " 'proj_nghack2019',\n",
       " 'proj_snahackathon',\n",
       " 'proj_kaggle_inclusive',\n",
       " '_meetings_ulsk',\n",
       " 'data_labeling',\n",
       " 'proj_kaggle_kidney_segmentation',\n",
       " 'proj_signate_cars',\n",
       " 'proj_upgreat_readable',\n",
       " '_meetings_seattle',\n",
       " 'proj_kaggle_pronoun',\n",
       " 'proj_drivendata_chimp',\n",
       " 'ods_kids',\n",
       " 'proj_zillow',\n",
       " 'proj_dsbowl_2017',\n",
       " 'proj_fakenewschalleng',\n",
       " 'proj_bytecup2018',\n",
       " '_meetings_sochi',\n",
       " 'mlart',\n",
       " 'ods_purgatory',\n",
       " 'ods_sky_sport',\n",
       " 'proj_gensim',\n",
       " 'lang_rust',\n",
       " 'proj_nips_causal',\n",
       " '_meetings_norge',\n",
       " 'meeting_nsfw_icml',\n",
       " 'proj_mcs_challenge',\n",
       " 'class_dl_mipt',\n",
       " '_meetings_md',\n",
       " 'tool_eli5',\n",
       " 'proj_kaggle_rfcx_species',\n",
       " '_meetings_omsk',\n",
       " '_meetings_voronezh',\n",
       " 'class_ium_2019',\n",
       " 'tool_arboretum',\n",
       " 'baai',\n",
       " 'gett_mck_bigdata_hack',\n",
       " '_meetings_china',\n",
       " 'proj_gold_miners',\n",
       " 'ods_casting',\n",
       " 'teal_practices_cases',\n",
       " '_meetings_ch',\n",
       " 'proj_jet_raif2018',\n",
       " 'tool_sota_detect',\n",
       " '_meetings_barnaul',\n",
       " '_meetings_tbilisi',\n",
       " 'proj_nips_autodl',\n",
       " 'neurohack_heart',\n",
       " 'fnbic_neural_networks',\n",
       " 'spacehack',\n",
       " 'proj_benchr',\n",
       " 'proj_nips_traffic',\n",
       " 'call_for_2020_datafest',\n",
       " 'proj_restrserve',\n",
       " 'proj_kaggle_rock_paper_scissors',\n",
       " 'data_governance',\n",
       " '_meetings_lt',\n",
       " 'tool_kaos',\n",
       " 'tool_digestbot',\n",
       " 'ods_open_source',\n",
       " 'dev_bot_test',\n",
       " 'tool_retentioneering',\n",
       " 'proj_procurement_shr',\n",
       " 'z_bots',\n",
       " '___top_links',\n",
       " 'proj_kekas',\n",
       " 'engineering-hiring',\n",
       " 'kaggle_avito_2017',\n",
       " 'proj_nexar2',\n",
       " 'slack-slack',\n",
       " 'minsk_2018_travel',\n",
       " 'novosibirsk',\n",
       " 'org_hse_projects',\n",
       " 'lang_lua_torch',\n",
       " 'blackoxchallenge',\n",
       " 'rnn',\n",
       " 'traiding',\n",
       " 'spark',\n",
       " 'ods_digests',\n",
       " 'ods-digests',\n",
       " 'work',\n",
       " 'ucuracy_trainings',\n",
       " 'jobs',\n",
       " 'ex_cad',\n",
       " 'wasdas',\n",
       " 'optimization',\n",
       " '_call_4_collaboratio',\n",
       " 'uku',\n",
       " 'tst_remove',\n",
       " 'egor_and_notabene',\n",
       " 'proj_kaggle_instacart',\n",
       " 'ods_datasets',\n",
       " 'proj_kaggle_statoil',\n",
       " 'class_fast_ai',\n",
       " 'kaggle_expedia_hotel',\n",
       " 'deep',\n",
       " 'org_nips_goldi',\n",
       " 'hackathon',\n",
       " 'ods_editors',\n",
       " 'sandbox',\n",
       " 'meetings_spb',\n",
       " 'alexyashadasha',\n",
       " 'data_elka_24_decembe',\n",
       " 'ods_challenges',\n",
       " 'proj_tinkoff',\n",
       " 'recsys2017',\n",
       " 'proj_kaggle_cervix',\n",
       " 'ods_social']"
      ]
     },
     "execution_count": 23,
     "metadata": {},
     "output_type": "execute_result"
    }
   ],
   "source": [
    "pr_sorted"
   ]
  },
  {
   "cell_type": "code",
   "execution_count": 26,
   "id": "collected-madagascar",
   "metadata": {},
   "outputs": [],
   "source": [
    "# channels by users\n",
    "chF = channel_fullness('data/opendatascience-Slack-export-Mar-12-2015-Dec-2-2020/channels.json')"
   ]
  },
  {
   "cell_type": "code",
   "execution_count": 28,
   "id": "crucial-franchise",
   "metadata": {},
   "outputs": [],
   "source": [
    "chF_sorted = sorted(chF, key=pr.get, reverse=True)"
   ]
  },
  {
   "cell_type": "code",
   "execution_count": 29,
   "id": "herbal-turtle",
   "metadata": {},
   "outputs": [
    {
     "data": {
      "text/plain": [
       "['_general',\n",
       " 'mlcourse_ai_news',\n",
       " 'deep_learning',\n",
       " '_jobs',\n",
       " 'theory_and_practice',\n",
       " 'interesting_links',\n",
       " 'edu_courses',\n",
       " '_meetings',\n",
       " 'kaggle_crackers',\n",
       " 'lang_python',\n",
       " 'datasets',\n",
       " 'visualization',\n",
       " 'welcome',\n",
       " 'nlp',\n",
       " 'mltrainings_live',\n",
       " 'mltrainings_beginners',\n",
       " 'lang_r',\n",
       " 'big_data',\n",
       " 'mlcourse_ai',\n",
       " '_top_jobs',\n",
       " '_top_science',\n",
       " '_top_talks',\n",
       " '_top_events',\n",
       " 'mlcourse_ai_rus',\n",
       " 'article_essence',\n",
       " 'analytiсs',\n",
       " 'career',\n",
       " '_random_talks',\n",
       " '_call_4_collaboration',\n",
       " 'edu_books',\n",
       " '_jobs_hr',\n",
       " 'looking_for_a_job',\n",
       " 'gnomiki',\n",
       " 'cv',\n",
       " 'ods_resume_mastering',\n",
       " 'class_cs231n',\n",
       " 'hardware',\n",
       " 'data_fest',\n",
       " 'dlcourse_ai',\n",
       " 'ml_pipeline',\n",
       " 'class_dl_cmu',\n",
       " 'reinforcement_learning',\n",
       " 'ods_pet_projects',\n",
       " 'business',\n",
       " 'edu_academy',\n",
       " 'ml4sg',\n",
       " 'math',\n",
       " 'trading',\n",
       " 'recommender_systems',\n",
       " 'ods_mentoring',\n",
       " 'conference',\n",
       " 'show_your_work',\n",
       " 'sequences_series',\n",
       " 'devops',\n",
       " '_meetings_spb',\n",
       " '_jobs_academy_phd',\n",
       " 'bayesian',\n",
       " 'edu_shad_exams',\n",
       " 'coronavirus',\n",
       " 'ods_sport',\n",
       " 'audio_and_speech',\n",
       " 'ds_process',\n",
       " 'pr_jerk',\n",
       " 'aij_contest',\n",
       " 'ods_habr',\n",
       " 'data_breakfast',\n",
       " 'class_fastai',\n",
       " 'self_driving',\n",
       " 'medicine',\n",
       " '_meetings_minsk',\n",
       " 'huawei_nlp_course',\n",
       " 'network_analysis',\n",
       " 'cloud',\n",
       " 'ods_code_review',\n",
       " 'randomcoffee',\n",
       " 'class_cs224w',\n",
       " '_meetings_live',\n",
       " '_random_b',\n",
       " '_meetings_nsfw',\n",
       " '_general_en',\n",
       " '_meetings_ukraine',\n",
       " 'satellite_imaging',\n",
       " 'ods_merch',\n",
       " 'deephack',\n",
       " 'class_coursera_aml',\n",
       " 'blockchain',\n",
       " 'tool_catalyst',\n",
       " '_meetings_de',\n",
       " 'bioinformatics',\n",
       " 'tool_dvc',\n",
       " 'class_cs224n',\n",
       " 'true_story',\n",
       " 'gis',\n",
       " 'lang_cpp',\n",
       " 'startups',\n",
       " 'ods_travel',\n",
       " '_meetings_sf',\n",
       " 'gan',\n",
       " 'proj_kaggle_deepfake',\n",
       " 'tool_albumentations',\n",
       " 'tool_catboost',\n",
       " '_meetings_siberia',\n",
       " 'proj_retailhero',\n",
       " 'proj_kaggle_lyft',\n",
       " 'quantum_computing',\n",
       " 'mlcourse_dubai',\n",
       " '_meetings_uae',\n",
       " 'proj_kaggle_jigsaw',\n",
       " '_random_politics',\n",
       " 'proj_nips_comp_19',\n",
       " 'proj_kaggle_salt',\n",
       " 'proj_ods_introspect',\n",
       " 'proj_kaggle_pneumonia',\n",
       " 'tool_segmentation',\n",
       " 'pydata',\n",
       " 'lang_scala',\n",
       " '_top_projects',\n",
       " 'proj_kaggle_severstal',\n",
       " 'юла_ods',\n",
       " 'writing_n_presenting',\n",
       " 'bots',\n",
       " 'proj_punch_to_face',\n",
       " 'proj_kaggle_cars',\n",
       " 'proj_kaggle_santander',\n",
       " 'proj_kaggle_fraud',\n",
       " 'neuroscience',\n",
       " 'proj_covid',\n",
       " 'proj_kaggle_champs',\n",
       " 'proj_kaggle_m5',\n",
       " 'proj_ds_bowl2018',\n",
       " 'proj_topcoder',\n",
       " 'proj_kaggle_quora_qs',\n",
       " 'proj_kaggle_fish',\n",
       " 'proj_kaggle_protein',\n",
       " 'proj_kaggle_airbus',\n",
       " 'process_mining',\n",
       " 'proj_kaggle_mechanism_of_action',\n",
       " 'ods_policy_prior',\n",
       " 'tool_deeppavlov',\n",
       " 'security',\n",
       " '_meetings_us',\n",
       " 'proj_kaggle_landmark',\n",
       " 'ai_ethics',\n",
       " 'proj_dsbowl_2019',\n",
       " 'proj_kaggle_lanl',\n",
       " '_meetings_ekb',\n",
       " 'proj_home_credit',\n",
       " 'industrial_ds',\n",
       " 'consulting',\n",
       " 'proj_kaggle_avito',\n",
       " '_meetings_ca',\n",
       " 'proj_kaggle_melanoma',\n",
       " 'proj_kaggle_2sigma',\n",
       " 'proj_kaggle_wheat_detection',\n",
       " 'proj_kaggle_ga',\n",
       " 'edu_x5_academy',\n",
       " 'proj_kaggle_bengali_classification',\n",
       " '_meetings_uk',\n",
       " 'proj_prostate_cancer',\n",
       " 'proj_kaggle_gan',\n",
       " 'proj_kaggle_abstraction_and_reasoning',\n",
       " 'proj_msft_malware',\n",
       " 'risk_modelling',\n",
       " 'proj_kaggle_petfinder',\n",
       " 'proj_kaggle_openimage',\n",
       " 'lang_go',\n",
       " 'interpretable_ml',\n",
       " 'proj_kaggle_birds',\n",
       " '_meetings_boardgames',\n",
       " 'proj_kaggle_riiid_tests',\n",
       " '_meetings_nl',\n",
       " 'proj_kaggle_blindness',\n",
       " 'proj_kaggle_camera',\n",
       " 'proj_kaggle_energy',\n",
       " 'lang_julia',\n",
       " 'proj_kaggle_fashion',\n",
       " 'proj_kaggle_tf2_question_ans',\n",
       " 'proj_wildfire',\n",
       " 'proj_classic_ai',\n",
       " 'proj_kaggle_santa',\n",
       " 'class_udacity_pytorch',\n",
       " 'proj_kaggle_ion',\n",
       " 'lang_javascript',\n",
       " 'proj_kaggle_fgvc6',\n",
       " '_meetings_kgd',\n",
       " 'proj_kaggle_tweet_sent_extr',\n",
       " 'tool_spacy_ru',\n",
       " 'proj_kaggle_elo_merch',\n",
       " 'proj_kaggle_quickdraw',\n",
       " '_meetings_nyc',\n",
       " 'proj_zindi',\n",
       " 'causal_inference',\n",
       " 'proj_rosbank',\n",
       " 'idrnd_challenge',\n",
       " 'proj_kaggle_vsb_power',\n",
       " 'proj_kaggle_alaska',\n",
       " 'chess',\n",
       " 'tool_bigartm',\n",
       " 'proj_telecom_data_cup',\n",
       " 'tool_bimorph',\n",
       " 'proj_signate',\n",
       " 'proj_kaggle_quest_challenge',\n",
       " 'tool_ebonite',\n",
       " 'proj_kaggle_inst_grat',\n",
       " '_meetings_france',\n",
       " 'proj_kaggle_speech',\n",
       " 'proj_drivendata',\n",
       " 'edu_course_pgm',\n",
       " 'proj_algo_alice',\n",
       " 'proj_dota2',\n",
       " 'stack_overflow',\n",
       " 'picsartaihack',\n",
       " 'proj_kaggle_covid_vaccine',\n",
       " 'proj_kaggle_nfl',\n",
       " 'proj_geohack',\n",
       " 'proj_kaggle_halite',\n",
       " 'proj_waymo_challenges',\n",
       " 'proj_mercari',\n",
       " '_meetings_smr',\n",
       " 'proj_kaggle_jane_st',\n",
       " 'proj_kaggle_hemorrhage',\n",
       " 'edu_dsclub_spb',\n",
       " 'proj_yt8m',\n",
       " 'proj_kaggle_plasticc',\n",
       " 'proj_kaggle_trackml',\n",
       " 'proj_kaggle_cassava_leaf',\n",
       " '_meetings_nn',\n",
       " 'proj_freesound_2019',\n",
       " 'ods_platform',\n",
       " 'ods_sport_sf',\n",
       " 'proj_kaggle_cdiscount',\n",
       " 'proj_kaggle_talkdata',\n",
       " 'proj_safe_driver',\n",
       " 'proj_nips_comp_20',\n",
       " 'proj_comp_workshop',\n",
       " 'proj_acm_recsys',\n",
       " 'ml_in_finance',\n",
       " '_meetings_perm',\n",
       " 'kaggle_dsg',\n",
       " 'proj_kaggle_google_football',\n",
       " '_meetings_tomsk',\n",
       " 'proj_kaggle_trends_neuroimaging',\n",
       " 'proj_sibur_challenge',\n",
       " 'proj_kaggle_recruit',\n",
       " 'cft_contest',\n",
       " 'esports',\n",
       " '_meetings_fi',\n",
       " '_meetings_dv',\n",
       " 'ods_podcast',\n",
       " 'proj_idao_2019',\n",
       " '_meetings_israel',\n",
       " 'proj_poker',\n",
       " '_meetings_chel',\n",
       " 'whateverhack',\n",
       " 'mlrepa',\n",
       " 'proj_kaggle_nfl_impact',\n",
       " 'ods_crowd',\n",
       " 'tool_kekas',\n",
       " '_meetings_kzn',\n",
       " 'proj_nghack2019',\n",
       " 'proj_snahackathon',\n",
       " 'proj_kaggle_inclusive',\n",
       " '_meetings_ulsk',\n",
       " 'data_labeling',\n",
       " 'proj_kaggle_kidney_segmentation',\n",
       " 'proj_signate_cars',\n",
       " 'proj_upgreat_readable',\n",
       " '_meetings_seattle',\n",
       " 'proj_kaggle_pronoun',\n",
       " 'proj_drivendata_chimp',\n",
       " 'ods_kids',\n",
       " 'proj_zillow',\n",
       " 'proj_dsbowl_2017',\n",
       " 'proj_fakenewschalleng',\n",
       " 'proj_bytecup2018',\n",
       " '_meetings_sochi',\n",
       " 'mlart',\n",
       " 'ods_purgatory',\n",
       " 'ods_sky_sport',\n",
       " 'proj_gensim',\n",
       " 'lang_rust',\n",
       " 'proj_nips_causal',\n",
       " '_meetings_norge',\n",
       " 'meeting_nsfw_icml',\n",
       " 'proj_mcs_challenge',\n",
       " 'class_dl_mipt',\n",
       " '_meetings_md',\n",
       " 'tool_eli5',\n",
       " 'proj_kaggle_rfcx_species',\n",
       " '_meetings_omsk',\n",
       " '_meetings_voronezh',\n",
       " 'class_ium_2019',\n",
       " 'tool_arboretum',\n",
       " 'baai',\n",
       " 'gett_mck_bigdata_hack',\n",
       " '_meetings_china',\n",
       " 'proj_gold_miners',\n",
       " 'ods_casting',\n",
       " 'teal_practices_cases',\n",
       " '_meetings_ch',\n",
       " 'proj_jet_raif2018',\n",
       " 'tool_sota_detect',\n",
       " '_meetings_barnaul',\n",
       " '_meetings_tbilisi',\n",
       " 'proj_nips_autodl',\n",
       " 'neurohack_heart',\n",
       " 'fnbic_neural_networks',\n",
       " 'spacehack',\n",
       " 'proj_benchr',\n",
       " 'proj_nips_traffic',\n",
       " 'call_for_2020_datafest',\n",
       " 'proj_restrserve',\n",
       " 'proj_kaggle_rock_paper_scissors',\n",
       " 'data_governance',\n",
       " '_meetings_lt',\n",
       " 'tool_kaos',\n",
       " 'tool_digestbot',\n",
       " 'ods_open_source',\n",
       " 'dev_bot_test',\n",
       " 'tool_retentioneering',\n",
       " 'proj_procurement_shr',\n",
       " 'z_bots',\n",
       " '___top_links',\n",
       " 'proj_kekas',\n",
       " 'engineering-hiring',\n",
       " 'kaggle_avito_2017',\n",
       " 'proj_nexar2',\n",
       " 'slack-slack',\n",
       " 'minsk_2018_travel',\n",
       " 'novosibirsk',\n",
       " 'org_hse_projects',\n",
       " 'lang_lua_torch',\n",
       " 'blackoxchallenge',\n",
       " 'rnn',\n",
       " 'traiding',\n",
       " 'spark',\n",
       " 'ods_digests',\n",
       " 'ods-digests',\n",
       " 'work',\n",
       " 'ucuracy_trainings',\n",
       " 'jobs',\n",
       " 'ex_cad',\n",
       " 'wasdas',\n",
       " 'optimization',\n",
       " '_call_4_collaboratio',\n",
       " 'uku',\n",
       " 'tst_remove',\n",
       " 'egor_and_notabene',\n",
       " 'proj_kaggle_instacart',\n",
       " 'ods_datasets',\n",
       " 'proj_kaggle_statoil',\n",
       " 'class_fast_ai',\n",
       " 'kaggle_expedia_hotel',\n",
       " 'deep',\n",
       " 'org_nips_goldi',\n",
       " 'hackathon',\n",
       " 'ods_editors',\n",
       " 'sandbox',\n",
       " 'meetings_spb',\n",
       " 'alexyashadasha',\n",
       " 'data_elka_24_decembe',\n",
       " 'ods_challenges',\n",
       " 'proj_tinkoff',\n",
       " 'recsys2017',\n",
       " 'proj_kaggle_cervix',\n",
       " 'ods_social']"
      ]
     },
     "execution_count": 29,
     "metadata": {},
     "output_type": "execute_result"
    }
   ],
   "source": [
    "chF_sorted"
   ]
  },
  {
   "cell_type": "code",
   "execution_count": 31,
   "id": "joint-desktop",
   "metadata": {},
   "outputs": [
    {
     "data": {
      "text/plain": [
       "True"
      ]
     },
     "execution_count": 31,
     "metadata": {},
     "output_type": "execute_result"
    }
   ],
   "source": [
    "import functools\n",
    "functools.reduce(lambda x, y : x and y, map(lambda p, q: p == q, chF_sorted, pr_sorted), True)"
   ]
  },
  {
   "cell_type": "markdown",
   "id": "sealed-youth",
   "metadata": {},
   "source": [
    "## Number of unic event"
   ]
  },
  {
   "cell_type": "code",
   "execution_count": 34,
   "id": "satisfied-resort",
   "metadata": {},
   "outputs": [],
   "source": [
    "path_ = 'data/opendatascience-Slack-export-Mar-12-2015-Dec-2-2020'\n",
    "_s_set = set()"
   ]
  },
  {
   "cell_type": "code",
   "execution_count": 57,
   "id": "subjective-aging",
   "metadata": {},
   "outputs": [],
   "source": [
    "def unic_counter(path_, _s_set):\n",
    "    count = 0\n",
    "    event = 0\n",
    "    ts = []\n",
    "    names = os.listdir(path_)\n",
    "    s_path = os.path.realpath(path_)\n",
    "    for name in names:\n",
    "        fullpath = os.path.join(s_path, name)\n",
    "        if os.path.isdir(fullpath):\n",
    "            inside = os.listdir(fullpath)\n",
    "            for i in inside:\n",
    "                inpath = os.path.join(fullpath, i)\n",
    "                if os.path.splitext(inpath)[1] == '.json':\n",
    "                    with open(inpath, 'r') as file_open:\n",
    "                        loaded = json.loads(file_open.read())\n",
    "                        for i in loaded:\n",
    "                            _s_set.update(i.keys())\n",
    "                            if i['type'] == 'message':\n",
    "                                event +=1\n",
    "                                ts.append(i['ts'])\n",
    "                        count += 1\n",
    "    return _s_set, count, event, ts"
   ]
  },
  {
   "cell_type": "code",
   "execution_count": 58,
   "id": "happy-ending",
   "metadata": {},
   "outputs": [],
   "source": [
    "s, count, event, ts = unic_counter(path_, _s_set)"
   ]
  },
  {
   "cell_type": "code",
   "execution_count": 59,
   "id": "classical-sociology",
   "metadata": {},
   "outputs": [
    {
     "data": {
      "text/plain": [
       "{'attachments',\n",
       " 'blocks',\n",
       " 'bot_id',\n",
       " 'bot_link',\n",
       " 'bot_profile',\n",
       " 'channel',\n",
       " 'client_msg_id',\n",
       " 'comment',\n",
       " 'display_as_bot',\n",
       " 'edited',\n",
       " 'file',\n",
       " 'files',\n",
       " 'hidden',\n",
       " 'icons',\n",
       " 'inviter',\n",
       " 'is_intro',\n",
       " 'item',\n",
       " 'item_type',\n",
       " 'last_read',\n",
       " 'latest_reply',\n",
       " 'name',\n",
       " 'new_broadcast',\n",
       " 'no_notifications',\n",
       " 'old_name',\n",
       " 'parent_user_id',\n",
       " 'permalink',\n",
       " 'purpose',\n",
       " 'reactions',\n",
       " 'replies',\n",
       " 'reply_count',\n",
       " 'reply_users',\n",
       " 'reply_users_count',\n",
       " 'room',\n",
       " 'root',\n",
       " 'source_team',\n",
       " 'subscribed',\n",
       " 'subtype',\n",
       " 'team',\n",
       " 'text',\n",
       " 'thread_ts',\n",
       " 'topic',\n",
       " 'ts',\n",
       " 'type',\n",
       " 'upload',\n",
       " 'upload_reply_to',\n",
       " 'user',\n",
       " 'user_profile',\n",
       " 'user_team',\n",
       " 'username',\n",
       " 'x_files'}"
      ]
     },
     "execution_count": 59,
     "metadata": {},
     "output_type": "execute_result"
    }
   ],
   "source": [
    "s"
   ]
  },
  {
   "cell_type": "code",
   "execution_count": 60,
   "id": "dressed-weekend",
   "metadata": {},
   "outputs": [
    {
     "name": "stdout",
     "output_type": "stream",
     "text": [
      "Number of files: 85424, number of message events: 1850209\n"
     ]
    }
   ],
   "source": [
    "print('Number of files: {}, number of message events: {}'.format(count, event))"
   ]
  },
  {
   "cell_type": "markdown",
   "id": "italic-rabbit",
   "metadata": {},
   "source": [
    "Итого у нас:\n",
    "\n",
    "- **366** каналов\n",
    "- **54679** юзеров\n",
    "- **1850209** событий, созданных юзерами в каналах"
   ]
  },
  {
   "cell_type": "markdown",
   "id": "tough-commissioner",
   "metadata": {},
   "source": [
    "# Event distribution"
   ]
  },
  {
   "cell_type": "code",
   "execution_count": 61,
   "id": "introductory-defendant",
   "metadata": {},
   "outputs": [
    {
     "data": {
      "text/plain": [
       "1850209"
      ]
     },
     "execution_count": 61,
     "metadata": {},
     "output_type": "execute_result"
    }
   ],
   "source": [
    "len(ts)"
   ]
  },
  {
   "cell_type": "code",
   "execution_count": 62,
   "id": "taken-robertson",
   "metadata": {},
   "outputs": [
    {
     "data": {
      "text/plain": [
       "'1565029341.016700'"
      ]
     },
     "execution_count": 62,
     "metadata": {},
     "output_type": "execute_result"
    }
   ],
   "source": [
    "ts[0]"
   ]
  },
  {
   "cell_type": "code",
   "execution_count": 65,
   "id": "simplified-drawing",
   "metadata": {},
   "outputs": [
    {
     "data": {
      "text/plain": [
       "1612294846.7218182"
      ]
     },
     "execution_count": 65,
     "metadata": {},
     "output_type": "execute_result"
    }
   ],
   "source": [
    "import time\n",
    "from datetime import datetime\n",
    "time.time()"
   ]
  },
  {
   "cell_type": "code",
   "execution_count": 66,
   "id": "applicable-criterion",
   "metadata": {},
   "outputs": [
    {
     "data": {
      "text/plain": [
       "datetime.datetime(2021, 2, 2, 21, 40, 48, 629529)"
      ]
     },
     "execution_count": 66,
     "metadata": {},
     "output_type": "execute_result"
    }
   ],
   "source": [
    "datetime.fromtimestamp(time.time())"
   ]
  },
  {
   "cell_type": "code",
   "execution_count": 68,
   "id": "photographic-religion",
   "metadata": {},
   "outputs": [
    {
     "data": {
      "text/plain": [
       "datetime.datetime(2019, 8, 5, 20, 22, 21, 16700)"
      ]
     },
     "execution_count": 68,
     "metadata": {},
     "output_type": "execute_result"
    }
   ],
   "source": [
    "datetime.fromtimestamp(float(ts[0]))"
   ]
  },
  {
   "cell_type": "code",
   "execution_count": 69,
   "id": "diagnostic-arrow",
   "metadata": {},
   "outputs": [],
   "source": [
    "dt = [datetime.fromtimestamp(float(i)) for i in ts]"
   ]
  },
  {
   "cell_type": "code",
   "execution_count": 70,
   "id": "adapted-trade",
   "metadata": {},
   "outputs": [],
   "source": [
    "import matplotlib.dates as mdates"
   ]
  },
  {
   "cell_type": "code",
   "execution_count": 71,
   "id": "occasional-inquiry",
   "metadata": {},
   "outputs": [],
   "source": [
    "mpl_dt = mdates.date2num(dt)"
   ]
  },
  {
   "cell_type": "code",
   "execution_count": 72,
   "id": "indie-reporter",
   "metadata": {},
   "outputs": [
    {
     "data": {
      "image/png": "[encoded data removed]",
      "text/plain": [
       "<Figure size 432x288 with 1 Axes>"
      ]
     },
     "metadata": {
      "needs_background": "light"
     },
     "output_type": "display_data"
    }
   ],
   "source": [
    "fig, ax = plt.subplots(1,1)\n",
    "ax.hist(mpl_dt, bins=50, color='lightblue')\n",
    "ax.xaxis.set_major_locator(mdates.YearLocator())\n",
    "ax.xaxis.set_major_formatter(mdates.DateFormatter('%d.%m.%y'))\n",
    "plt.show()"
   ]
  },
  {
   "cell_type": "code",
   "execution_count": 80,
   "id": "fleet-northern",
   "metadata": {},
   "outputs": [
    {
     "data": {
      "image/png": "[encoded data removed]",
      "text/plain": [
       "<Figure size 1080x720 with 1 Axes>"
      ]
     },
     "metadata": {
      "needs_background": "light"
     },
     "output_type": "display_data"
    }
   ],
   "source": [
    "locator = mdates.AutoDateLocator()\n",
    "fig, ax = plt.subplots(1,1,figsize=(15,10))\n",
    "ax.hist(mpl_dt, bins=50, color='lightblue')\n",
    "ax.xaxis.set_major_locator(locator)\n",
    "ax.xaxis.set_major_formatter(mdates.AutoDateFormatter(locator))\n",
    "plt.show()"
   ]
  },
  {
   "cell_type": "markdown",
   "id": "executed-angel",
   "metadata": {},
   "source": [
    "TO-DO: split events:\n",
    "\n",
    "- by days\n",
    "- by fixed numbers of events in time period"
   ]
  },
  {
   "cell_type": "code",
   "execution_count": null,
   "id": "afraid-canada",
   "metadata": {},
   "outputs": [],
   "source": []
  }
 ],
 "metadata": {
  "kernelspec": {
   "display_name": "Python 3",
   "language": "python",
   "name": "python3"
  },
  "language_info": {
   "codemirror_mode": {
    "name": "ipython",
    "version": 3
   },
   "file_extension": ".py",
   "mimetype": "text/x-python",
   "name": "python",
   "nbconvert_exporter": "python",
   "pygments_lexer": "ipython3",
   "version": "3.8.6"
  }
 },
 "nbformat": 4,
 "nbformat_minor": 5
}
